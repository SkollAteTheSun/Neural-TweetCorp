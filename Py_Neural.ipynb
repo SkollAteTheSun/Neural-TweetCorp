{
  "cells": [
    {
      "cell_type": "code",
      "execution_count": null,
      "metadata": {
        "colab": {
          "base_uri": "https://localhost:8080/"
        },
        "id": "uf_n7srsCmjr",
        "outputId": "d14833b6-7d60-4b47-f06d-703031ddbee5"
      },
      "outputs": [
        {
          "output_type": "stream",
          "name": "stdout",
          "text": [
            "Requirement already satisfied: pymorphy2 in /usr/local/lib/python3.7/dist-packages (0.9.1)\n",
            "Requirement already satisfied: pymorphy2-dicts-ru<3.0,>=2.4 in /usr/local/lib/python3.7/dist-packages (from pymorphy2) (2.4.417127.4579844)\n",
            "Requirement already satisfied: docopt>=0.6 in /usr/local/lib/python3.7/dist-packages (from pymorphy2) (0.6.2)\n",
            "Requirement already satisfied: dawg-python>=0.7.1 in /usr/local/lib/python3.7/dist-packages (from pymorphy2) (0.7.2)\n"
          ]
        }
      ],
      "source": [
        "!pip install pymorphy2"
      ]
    },
    {
      "cell_type": "code",
      "execution_count": null,
      "metadata": {
        "colab": {
          "base_uri": "https://localhost:8080/"
        },
        "id": "dCoaIo29CqSP",
        "outputId": "1b00e7a6-e81a-4833-ebf2-72a8ef6fc65b"
      },
      "outputs": [
        {
          "output_type": "stream",
          "name": "stdout",
          "text": [
            "[nltk_data] Downloading package punkt to /root/nltk_data...\n",
            "[nltk_data]   Unzipping tokenizers/punkt.zip.\n",
            "[nltk_data] Downloading package stopwords to /root/nltk_data...\n",
            "[nltk_data]   Unzipping corpora/stopwords.zip.\n",
            "[nltk_data] Downloading package averaged_perceptron_tagger to\n",
            "[nltk_data]     /root/nltk_data...\n",
            "[nltk_data]   Unzipping taggers/averaged_perceptron_tagger.zip.\n"
          ]
        }
      ],
      "source": [
        "import numpy as np\n",
        "import nltk\n",
        "from nltk.tokenize import sent_tokenize, word_tokenize\n",
        "from nltk.corpus import stopwords\n",
        "import pymorphy2\n",
        "import pymystem3\n",
        "import re\n",
        "import pandas as pd\n",
        "import os\n",
        "import matplotlib.pyplot as plt\n",
        "from statistics import mean\n",
        "from sklearn.feature_extraction.text import TfidfVectorizer\n",
        "from sklearn.feature_extraction.text import TfidfTransformer\n",
        "from sklearn.feature_extraction.text import CountVectorizer\n",
        "from sklearn.metrics import accuracy_score\n",
        "\n",
        "nltk.download('punkt')\n",
        "nltk.download(\"stopwords\")\n",
        "nltk.download('averaged_perceptron_tagger')\n",
        "\n",
        "from tqdm.notebook import tqdm\n",
        "import matplotlib.pyplot as plt\n",
        "\n",
        "import torch\n",
        "import torch.nn as nn\n",
        "import torch.nn.functional as F\n",
        "from torch import optim\n",
        "from torch.utils.data import Dataset, DataLoader, random_split\n",
        "\n",
        "SEED = 42 \n",
        "torch.manual_seed(SEED)\n",
        "torch.cuda.manual_seed(SEED)\n",
        "torch.backends.cudnn.deterministic = True\n",
        "torch.backends.cudnn.benchmark = False\n",
        "np.random.seed(SEED)"
      ]
    },
    {
      "cell_type": "code",
      "execution_count": null,
      "metadata": {
        "id": "0m5IfUG2C-MM"
      },
      "outputs": [],
      "source": [
        "def getDataFrame(fileName):\n",
        "    file = open(fileName, encoding='utf-8')\n",
        "    table = file.read()\n",
        "\n",
        "    table = table.replace('\"', '`', 1).replace('\";\"', \"`;`\").replace('\"\\n\"', '`\\n`', -1)\n",
        "    invTable = table[::-1].replace('\"', '`', 1)\n",
        "    table = invTable[::-1]\n",
        "\n",
        "    preparse = re.findall(\n",
        "        '(`[0-9]+`;`[0-9]+`;`[^;`\\n]+`;`[^;`]+`;`-?[0-9]+`;`[0-9]+`;`[0-9]+`;`[0-9]+`;`[0-9]+`;`[0-9]+`;`[0-9]+`;`[0-9]+`)',\n",
        "        table,)\n",
        "\n",
        "    preparse = preparse[:500]\n",
        "\n",
        "    dataLines = []\n",
        "    for el in preparse:\n",
        "        curEl = el.replace('`', '')\n",
        "        dataLines.append(curEl.split(';'))\n",
        "\n",
        "    data = pd.DataFrame([el for el in dataLines])\n",
        "\n",
        "    data = data.rename(columns={0: 'id',\n",
        "                                1: 'date',\n",
        "                                2: 'name',\n",
        "                                3: 'text',\n",
        "                                4: 'type',\n",
        "                                5: 'rep',\n",
        "                                6: 'rtv',\n",
        "                                7: 'fav',\n",
        "                                8: 'count',\n",
        "                                9: 'fol',\n",
        "                                10: 'frien',\n",
        "                                11: 'listcount', })\n",
        "    data['date'] = pd.to_datetime(data['date'].astype(int), unit='s')\n",
        "\n",
        "    return data\n",
        "\n",
        "def getDict(filename, sep=';'):\n",
        "    file = open(filename)\n",
        "    table = file.read()\n",
        "    file.close()\n",
        "\n",
        "    dict = {}\n",
        "    for line in table.split('\\n'):\n",
        "        if line == table.split('\\n')[-1]:\n",
        "            break\n",
        "        word = line.split(sep)[0]\n",
        "        value = line.split(sep)[1]\n",
        "        if word not in dict:\n",
        "            dict[word] = [1, int(value)]\n",
        "        else:\n",
        "            dict[word][0] += 1\n",
        "            dict[word][1] += int(value)\n",
        "\n",
        "    fairDict = {}\n",
        "    for word in dict.items():\n",
        "        fairDict[word[0]] = word[1][1] / word[1][0]\n",
        "\n",
        "    return fairDict\n",
        "\n",
        "def getMoprh(data):\n",
        "    data = data.copy()\n",
        "    data['words'] = data.apply(lambda row: word_tokenize(row['text'], language='russian'),\n",
        "                               axis=1)  # splitting message texts into tokens using nltk\n",
        "    data['words'] = data['words'].apply(lambda row: [word.lower() for word in row if\n",
        "                                                     word.isalnum()])  # lowercase and remove extra \"stopword\" characters\n",
        "\n",
        "    russian_stopwords = stopwords.words(\"russian\")\n",
        "    data['words'] = data['words'].apply(lambda row: [word for word in row if\n",
        "                                                     word not in russian_stopwords]) \n",
        "\n",
        "    morph = pymorphy2.MorphAnalyzer()\n",
        "    data['normal forms'] = data['words'].apply(\n",
        "        lambda row: [morph.parse(word)[0].normal_form for word in row])  # bringing tokens to normal form\n",
        "\n",
        "    data['types'] = data['words'].apply(\n",
        "        lambda row: [morph.parse(word)[0].tag.POS for word in row])\n",
        "\n",
        "    data['nouns'] = data.apply(lambda row: len([word for word in row['types'] if word == \"NOUN\"]) / len(row[\"words\"]),\n",
        "                               axis=1)\n",
        "    data['verbs'] = data.apply(lambda row: len([word for word in row['types'] if word == \"VERB\"]) / len(row[\"words\"]),\n",
        "                               axis=1)\n",
        "    data['adjs'] = data.apply(\n",
        "        lambda row: len([word for word in row['types'] if word == \"ADJF\" or word == \"ADJS\"]) / len(row[\"words\"]),\n",
        "        axis=1)\n",
        "\n",
        "    cols = [\"nouns\", \"verbs\", \"adjs\"]\n",
        "    return data[cols]\n",
        "\n",
        "def getTonality(data, ton_dict):\n",
        "    data = data.copy()\n",
        "    data['words'] = data.apply(lambda row: word_tokenize(row['text'], language='russian'),\n",
        "                               axis=1)  # splitting message texts into tokens using nltk\n",
        "    data['words'] = data['words'].apply(lambda row: [word.lower() for word in row if\n",
        "                                                     word.isalnum()])  # lowercase and remove extra \"stopword\" characters\n",
        "\n",
        "    russian_stopwords = stopwords.words(\"russian\")\n",
        "    data['words'] = data['words'].apply(lambda row: [word for word in row if\n",
        "                                                     word not in russian_stopwords]) \n",
        "\n",
        "    morph = pymorphy2.MorphAnalyzer()\n",
        "    data['normal forms'] = data['words'].apply(\n",
        "        lambda row: [morph.parse(word)[0].normal_form for word in row])  # bringing tokens to normal form\n",
        "\n",
        "    data[\"tonality\"] = [0 for k in range(data.shape[0])]\n",
        "    data[\"tonality\"] = data['normal forms'].apply(lambda row: [ton_dict[word] for word in row if word in ton_dict.keys()])\n",
        "    data[\"tonality\"] = data[\"tonality\"].apply(lambda row: [0.0] if row == [] else row)\n",
        "\n",
        "    cols = ['mean', 'max', 'min', 'sum', 'count_pos', 'count_neg']\n",
        "\n",
        "    def apply_func(row):\n",
        "        ton = row['tonality']\n",
        "        return [mean(ton),\n",
        "                max(ton),\n",
        "                min(ton),\n",
        "                sum(ton),\n",
        "                len([val for val in ton if val > 0.0]),\n",
        "                len([val for val in ton if val < 0.0])]\n",
        "\n",
        "    data[cols] = data.apply(apply_func, axis=1, result_type='expand')\n",
        "\n",
        "    return data[cols]\n",
        "\n",
        "def getTfIdf(data):\n",
        "    russian_stopwords = stopwords.words(\"russian\")\n",
        "    morph = pymorphy2.MorphAnalyzer()\n",
        "\n",
        "    def preprocess(doc):\n",
        "        doc = re.sub(r'[^\\w]', ' ', doc)\n",
        "        words = doc.split() \n",
        "        words = filter(lambda x: x not in russian_stopwords, words) \n",
        "        words = map(lambda x: morph.parse(x)[0].normal_form, words) \n",
        "        return ' '.join(words) \n",
        "\n",
        "    docs = data['text'].apply(preprocess) \n",
        "\n",
        "    tfidf_vectorizer = TfidfVectorizer()\n",
        "    tfidf_vectorizer_vectors = tfidf_vectorizer.fit_transform(docs) \n",
        "    return tfidf_vectorizer_vectors.todense()\n",
        "\n",
        "def getRawData(path):\n",
        "    negFile = os.path.join(path, \"negative.csv\")\n",
        "    posFile = os.path.join(path, \"positive.csv\")\n",
        "\n",
        "    negData = getDataFrame(negFile)\n",
        "    posData = getDataFrame(posFile)\n",
        "\n",
        "    return negData, posData\n",
        "\n",
        "data_dir = 'data'\n",
        "negData, posData = getRawData(data_dir)\n",
        "\n",
        "df = pd.concat([negData,posData])\n",
        "ton_dict = getDict(os.path.join(data_dir, \"dictionary1.csv\"), ',')\n",
        "\n",
        "target = [*[0] * len(negData), *[1] * len(posData)]"
      ]
    },
    {
      "cell_type": "code",
      "execution_count": null,
      "metadata": {
        "id": "M_IyR0HXJEL6"
      },
      "outputs": [],
      "source": [
        "class TorchDataset(Dataset):\n",
        "    def __init__(self, features, target):\n",
        "        super().__init__()\n",
        "\n",
        "        self.features = torch.Tensor(features).float()\n",
        "        self.target = torch.Tensor(target).unsqueeze(-1)\n",
        "    \n",
        "    def __len__(self):\n",
        "        return len(self.features)\n",
        "    \n",
        "    def __getitem__(self, idx):\n",
        "        return self.features[idx], self.target[idx]"
      ]
    },
    {
      "cell_type": "code",
      "execution_count": null,
      "metadata": {
        "id": "Fp7E1bJpISSq"
      },
      "outputs": [],
      "source": [
        "class MLPNet(nn.Module):\n",
        "    def __init__(self, input_dim, output_dim=1, hidden_dim=64):\n",
        "        super().__init__()\n",
        "        self.model = nn.Sequential(\n",
        "            nn.Linear(input_dim, hidden_dim),\n",
        "            nn.ReLU(),\n",
        "            nn.Linear(hidden_dim, output_dim))\n",
        "    \n",
        "    def forward(self, x):\n",
        "        return self.model(x)"
      ]
    },
    {
      "cell_type": "code",
      "execution_count": null,
      "metadata": {
        "id": "MAjGwvs9IZEL"
      },
      "outputs": [],
      "source": [
        "def make_train_state():\n",
        "    return {'learning_rate': learning_rate,\n",
        "            'epoch_index': 0,\n",
        "            'train_loss': [],\n",
        "            'train_acc': [],\n",
        "            'val_loss': [],\n",
        "            'val_acc': [],\n",
        "            'test_loss': -1,\n",
        "            'test_acc': -1}\n",
        "\n",
        "def compute_accuracy(y_pred, y_target):\n",
        "    _, y_pred_indices = y_pred.detach().max(dim=1)\n",
        "    return accuracy_score(y_target, y_pred_indices)\n",
        "\n",
        "num_epochs = 25\n",
        "learning_rate = 0.001\n",
        "batch_size = 64"
      ]
    },
    {
      "cell_type": "code",
      "execution_count": null,
      "metadata": {
        "id": "wQ2IRJQfIeFd"
      },
      "outputs": [],
      "source": [
        "def train(classifier, dataset):\n",
        "    loss_func = nn.BCEWithLogitsLoss()\n",
        "    optimizer = optim.Adam(classifier.parameters(), lr=learning_rate)\n",
        "    train_state = make_train_state()\n",
        "\n",
        "    train_size = int(0.7 * len(dataset))\n",
        "    test_size = len(dataset) - train_size\n",
        "    train_dataset, valid_dataset = random_split(dataset, [train_size, test_size], generator=torch.Generator().manual_seed(SEED + 1))\n",
        "    train_loader = DataLoader(train_dataset, batch_size=batch_size, shuffle=True)\n",
        "    valid_loader = DataLoader(valid_dataset, batch_size=batch_size, shuffle=False)\n",
        "    try:\n",
        "        for epoch_index in tqdm(range(num_epochs)):\n",
        "            train_state['epoch_index'] = epoch_index\n",
        "\n",
        "            # train\n",
        "            running_loss = 0.0 \n",
        "            running_acc = 0.0 \n",
        "            classifier.train()\n",
        "\n",
        "            for batch_index, batch in enumerate(train_loader):\n",
        "                x, y = batch\n",
        "                optimizer.zero_grad()\n",
        "                y_pred = classifier(x)\n",
        "                loss = loss_func(y_pred, y)\n",
        "                loss_t = loss.item() \n",
        "                running_loss += (loss_t - running_loss) / (batch_index + 1)\n",
        "                loss.backward() \n",
        "                optimizer.step()\n",
        "                acc_t = compute_accuracy(y_pred, y)\n",
        "                running_acc += (acc_t - running_acc) / (batch_index + 1)\n",
        "            train_state['train_loss'].append(running_loss)\n",
        "            train_state['train_acc'].append(running_acc)\n",
        "\n",
        "            # validation\n",
        "            running_loss = 0.\n",
        "            running_acc = 0.\n",
        "            classifier.eval()\n",
        "\n",
        "            for batch_index, batch in enumerate(valid_loader):\n",
        "                x, y = batch\n",
        "                y_pred =  classifier(x)\n",
        "                loss = loss_func(y_pred, y)\n",
        "                loss_t = loss.to(\"cpu\").item()\n",
        "                running_loss += (loss_t - running_loss) / (batch_index + 1)\n",
        "                acc_t = compute_accuracy(y_pred, y)\n",
        "                running_acc += (acc_t - running_acc) / (batch_index + 1)\n",
        "            train_state['val_loss'].append(running_loss)\n",
        "            train_state['val_acc'].append(running_acc)\n",
        "\n",
        "    except KeyboardInterrupt:\n",
        "        print(\"Exiting loop\")\n",
        "\n",
        "    return train_state"
      ]
    },
    {
      "cell_type": "code",
      "execution_count": null,
      "metadata": {
        "id": "RYHT8bmMIg4G"
      },
      "outputs": [],
      "source": [
        "loss_labels = [\"train_loss\", \"val_loss\"]\n",
        "acc_labels = [\"train_acc\", \"val_acc\"]"
      ]
    },
    {
      "cell_type": "markdown",
      "metadata": {
        "id": "RRmZKCT9InIr"
      },
      "source": [
        "# First set of features\n",
        "\n",
        "Features based on the results of morphological analysis of texts - the proportion of different parts of speech (adjectives, nouns, verbs)"
      ]
    },
    {
      "cell_type": "code",
      "execution_count": null,
      "metadata": {
        "id": "QCIBYoKjItpt"
      },
      "outputs": [],
      "source": [
        "features_1 = getMoprh(df).values\n",
        "data_1 = TorchDataset(features_1, target) "
      ]
    },
    {
      "cell_type": "code",
      "execution_count": null,
      "metadata": {
        "colab": {
          "base_uri": "https://localhost:8080/",
          "height": 49,
          "referenced_widgets": [
            "c9930f3d5a74416f8721718d36f34a00",
            "233c44fb9b4049648876fd739e09340d",
            "cbed47975ed341ffac9bd81255771b6b",
            "8b4c606a021c4fdc861d9f1dc39dbe1c",
            "9387c34d2bcd4a4e9fe2131444ce4552",
            "2fac2f8a392e4d7e9b785777faf2f455",
            "86433204328649a1b9fb73fa99d345b1",
            "3c4448bfa656478980a3b61fd23eaa78",
            "6465ad9fad054e74898f54d23a32dd24",
            "2d9de0c618a64b3980d115990ed69543",
            "db9715154b9f4c8fbdc966b829b32a05"
          ]
        },
        "id": "3aSZIomtI2aY",
        "outputId": "5609fa06-6c31-4d6a-c083-bfe13d4ebe1a"
      },
      "outputs": [
        {
          "output_type": "display_data",
          "data": {
            "text/plain": [
              "  0%|          | 0/25 [00:00<?, ?it/s]"
            ],
            "application/vnd.jupyter.widget-view+json": {
              "version_major": 2,
              "version_minor": 0,
              "model_id": "c9930f3d5a74416f8721718d36f34a00"
            }
          },
          "metadata": {}
        }
      ],
      "source": [
        "classifier = MLPNet(features_1.shape[1])\n",
        "train_state = train(classifier, data_1)"
      ]
    },
    {
      "cell_type": "code",
      "execution_count": null,
      "metadata": {
        "colab": {
          "base_uri": "https://localhost:8080/",
          "height": 283
        },
        "id": "epMdd69eJWT3",
        "outputId": "b43d9b7d-2819-41d9-e379-3788afbf4677"
      },
      "outputs": [
        {
          "output_type": "execute_result",
          "data": {
            "text/plain": [
              "<matplotlib.legend.Legend at 0x7f97e213ab50>"
            ]
          },
          "metadata": {},
          "execution_count": 37
        },
        {
          "output_type": "display_data",
          "data": {
            "text/plain": [
              "<Figure size 432x288 with 1 Axes>"
            ],
            "image/png": "[encoded data removed]"
          },
          "metadata": {
            "needs_background": "light"
          }
        }
      ],
      "source": [
        "for label in loss_labels:\n",
        "    y = train_state[label]\n",
        "    plt.plot(y, label=label)\n",
        "    plt.grid(True)\n",
        "plt.legend()"
      ]
    },
    {
      "cell_type": "code",
      "execution_count": null,
      "metadata": {
        "colab": {
          "base_uri": "https://localhost:8080/",
          "height": 283
        },
        "id": "rp6Ngn37Jbqp",
        "outputId": "99d7af33-c4c4-4e49-869c-b8f6e84cebe9"
      },
      "outputs": [
        {
          "output_type": "execute_result",
          "data": {
            "text/plain": [
              "<matplotlib.legend.Legend at 0x7f97e4539550>"
            ]
          },
          "metadata": {},
          "execution_count": 38
        },
        {
          "output_type": "display_data",
          "data": {
            "text/plain": [
              "<Figure size 432x288 with 1 Axes>"
            ],
            "image/png": "[encoded data removed]"
          },
          "metadata": {
            "needs_background": "light"
          }
        }
      ],
      "source": [
        "for label in acc_labels:\n",
        "    y = train_state[label]\n",
        "    plt.plot(y, label=label)\n",
        "    plt.grid(True)\n",
        "plt.legend()"
      ]
    },
    {
      "cell_type": "markdown",
      "metadata": {
        "id": "iBw_TBzWJgmp"
      },
      "source": [
        "# Second set of features\n",
        "Linguistic features obtained using the tone dictionary."
      ]
    },
    {
      "cell_type": "code",
      "execution_count": null,
      "metadata": {
        "id": "p2cGtrCnJl-t"
      },
      "outputs": [],
      "source": [
        "features_2 = getTonality(df, ton_dict).values\n",
        "data_2 = TorchDataset(features_2, target)"
      ]
    },
    {
      "cell_type": "code",
      "execution_count": null,
      "metadata": {
        "colab": {
          "base_uri": "https://localhost:8080/",
          "height": 49,
          "referenced_widgets": [
            "919619760648411b807ba4426af460e9",
            "920a925d23164f0c98e47b872dd5e0cc",
            "c3872cba48e14c7c9783363098e10883",
            "16c25f5834624e7db49602b05b608ccb",
            "e60aafb1af12482591fbe540ffe60415",
            "915c3765848e423bb986bdee88cd4513",
            "0793b3b411e44cd9a810c91a6b7d5ec3",
            "a5e49be394ca433abf4de2feb4f61d48",
            "b9a8683dbc6041c5a46e7a72a247ae97",
            "947d8c83164d4c39a09fde56ec074521",
            "7d730a882a8d4b2e9a074a1e95c80144"
          ]
        },
        "id": "bF8IxJAZJqZL",
        "outputId": "f6da630f-0507-4554-fb13-97afbbcabda4"
      },
      "outputs": [
        {
          "output_type": "display_data",
          "data": {
            "text/plain": [
              "  0%|          | 0/25 [00:00<?, ?it/s]"
            ],
            "application/vnd.jupyter.widget-view+json": {
              "version_major": 2,
              "version_minor": 0,
              "model_id": "919619760648411b807ba4426af460e9"
            }
          },
          "metadata": {}
        }
      ],
      "source": [
        "classifier = MLPNet(features_2.shape[1])\n",
        "train_state = train(classifier, data_2)"
      ]
    },
    {
      "cell_type": "code",
      "execution_count": null,
      "metadata": {
        "colab": {
          "base_uri": "https://localhost:8080/",
          "height": 283
        },
        "id": "xT8reFaMJtti",
        "outputId": "93b37e55-ef4e-45cd-e88d-f3cf39d086d1"
      },
      "outputs": [
        {
          "output_type": "execute_result",
          "data": {
            "text/plain": [
              "<matplotlib.legend.Legend at 0x7f97e26bc490>"
            ]
          },
          "metadata": {},
          "execution_count": 41
        },
        {
          "output_type": "display_data",
          "data": {
            "text/plain": [
              "<Figure size 432x288 with 1 Axes>"
            ],
            "image/png": "[encoded data removed]"
          },
          "metadata": {
            "needs_background": "light"
          }
        }
      ],
      "source": [
        "for label in loss_labels:\n",
        "    y = train_state[label]\n",
        "    plt.plot(y, label=label)\n",
        "    plt.grid(True)\n",
        "plt.legend()"
      ]
    },
    {
      "cell_type": "code",
      "execution_count": null,
      "metadata": {
        "colab": {
          "base_uri": "https://localhost:8080/",
          "height": 283
        },
        "id": "nG1dvlp7JwIW",
        "outputId": "816f54da-0442-47d3-9dbb-cfa555498b3a"
      },
      "outputs": [
        {
          "output_type": "execute_result",
          "data": {
            "text/plain": [
              "<matplotlib.legend.Legend at 0x7f97e26bc750>"
            ]
          },
          "metadata": {},
          "execution_count": 42
        },
        {
          "output_type": "display_data",
          "data": {
            "text/plain": [
              "<Figure size 432x288 with 1 Axes>"
            ],
            "image/png": "[encoded data removed]"
          },
          "metadata": {
            "needs_background": "light"
          }
        }
      ],
      "source": [
        "for label in acc_labels:\n",
        "    y = train_state[label]\n",
        "    plt.plot(y, label=label)\n",
        "    plt.grid(True)\n",
        "plt.legend()"
      ]
    },
    {
      "cell_type": "markdown",
      "metadata": {
        "id": "QGvt495gJ0by"
      },
      "source": [
        "# Third set of features\n",
        "Based on bag of words model with TF-IDF measure\n",
        "\n"
      ]
    },
    {
      "cell_type": "code",
      "execution_count": null,
      "metadata": {
        "id": "NBu-cMwYJ64K"
      },
      "outputs": [],
      "source": [
        "features_3 = getTfIdf(df)\n",
        "data_3 = TorchDataset(features_3, target)"
      ]
    },
    {
      "cell_type": "code",
      "execution_count": null,
      "metadata": {
        "colab": {
          "base_uri": "https://localhost:8080/",
          "height": 49,
          "referenced_widgets": [
            "bda9c0608f15421ba75958b74d6b1cd3",
            "60e0593d6673438e8733fecf982e8cb7",
            "f4499faf5e9c48fb9d3d31f1140dc93c",
            "6f20c813106745409f4c9ad5853d241f",
            "189586f05a1d45a58870d18e018325fc",
            "6c2cd33b883247b8a4d466e46ef043fa",
            "b17bea3b945e4e8d8e954b933f332b33",
            "f5375bf057da48fa84005e4aebc03857",
            "f6efe37def0c40dda238340c7c2eb13d",
            "224ced3ca11f4b3ab6d8ad8e10633037",
            "4d0296e1ea3445d5aa308703f8b64e02"
          ]
        },
        "id": "bDZRJ-mLJ-cp",
        "outputId": "fecf9f53-e74a-4d8d-b615-822626c57359"
      },
      "outputs": [
        {
          "output_type": "display_data",
          "data": {
            "text/plain": [
              "  0%|          | 0/25 [00:00<?, ?it/s]"
            ],
            "application/vnd.jupyter.widget-view+json": {
              "version_major": 2,
              "version_minor": 0,
              "model_id": "bda9c0608f15421ba75958b74d6b1cd3"
            }
          },
          "metadata": {}
        }
      ],
      "source": [
        "classifier = MLPNet(features_3.shape[1])\n",
        "train_state = train(classifier, data_3)"
      ]
    },
    {
      "cell_type": "code",
      "execution_count": null,
      "metadata": {
        "colab": {
          "base_uri": "https://localhost:8080/",
          "height": 283
        },
        "id": "e5PzRJFyKBX5",
        "outputId": "b3241923-b823-4a0b-e1c4-3d06a9c0ee00"
      },
      "outputs": [
        {
          "output_type": "execute_result",
          "data": {
            "text/plain": [
              "<matplotlib.legend.Legend at 0x7f97e1f14bd0>"
            ]
          },
          "metadata": {},
          "execution_count": 45
        },
        {
          "output_type": "display_data",
          "data": {
            "text/plain": [
              "<Figure size 432x288 with 1 Axes>"
            ],
            "image/png": "[encoded data removed]"
          },
          "metadata": {
            "needs_background": "light"
          }
        }
      ],
      "source": [
        "for label in loss_labels:\n",
        "    y = train_state[label]\n",
        "    plt.plot(y, label=label)\n",
        "    plt.grid(True)\n",
        "plt.legend()"
      ]
    },
    {
      "cell_type": "code",
      "execution_count": null,
      "metadata": {
        "colab": {
          "background_save": true
        },
        "id": "PGfTIMauKFAh",
        "outputId": "756c739e-c8bb-4b93-ef18-8a07ba0576b6"
      },
      "outputs": [
        {
          "data": {
            "text/plain": [
              "<matplotlib.legend.Legend at 0x7f97e23ce790>"
            ]
          },
          "execution_count": null,
          "metadata": {},
          "output_type": "execute_result"
        },
        {
          "data": {
            "image/png": "[encoded data removed]",
            "text/plain": [
              "<Figure size 432x288 with 1 Axes>"
            ]
          },
          "metadata": {},
          "output_type": "display_data"
        }
      ],
      "source": [
        "for label in acc_labels:\n",
        "    y = train_state[label]\n",
        "    plt.plot(y, label=label)\n",
        "    plt.grid(True)\n",
        "plt.legend()"
      ]
    }
  ],
  "metadata": {
    "colab": {
      "collapsed_sections": [],
      "name": "Py_Neural",
      "provenance": []
    },
    "kernelspec": {
      "display_name": "Python 3",
      "name": "python3"
    },
    "language_info": {
      "name": "python"
    },
    "widgets": {
      "application/vnd.jupyter.widget-state+json": {
        "c9930f3d5a74416f8721718d36f34a00": {
          "model_module": "@jupyter-widgets/controls",
          "model_name": "HBoxModel",
          "model_module_version": "1.5.0",
          "state": {
            "_dom_classes": [],
            "_model_module": "@jupyter-widgets/controls",
            "_model_module_version": "1.5.0",
            "_model_name": "HBoxModel",
            "_view_count": null,
            "_view_module": "@jupyter-widgets/controls",
            "_view_module_version": "1.5.0",
            "_view_name": "HBoxView",
            "box_style": "",
            "children": [
              "IPY_MODEL_233c44fb9b4049648876fd739e09340d",
              "IPY_MODEL_cbed47975ed341ffac9bd81255771b6b",
              "IPY_MODEL_8b4c606a021c4fdc861d9f1dc39dbe1c"
            ],
            "layout": "IPY_MODEL_9387c34d2bcd4a4e9fe2131444ce4552"
          }
        },
        "233c44fb9b4049648876fd739e09340d": {
          "model_module": "@jupyter-widgets/controls",
          "model_name": "HTMLModel",
          "model_module_version": "1.5.0",
          "state": {
            "_dom_classes": [],
            "_model_module": "@jupyter-widgets/controls",
            "_model_module_version": "1.5.0",
            "_model_name": "HTMLModel",
            "_view_count": null,
            "_view_module": "@jupyter-widgets/controls",
            "_view_module_version": "1.5.0",
            "_view_name": "HTMLView",
            "description": "",
            "description_tooltip": null,
            "layout": "IPY_MODEL_2fac2f8a392e4d7e9b785777faf2f455",
            "placeholder": "​",
            "style": "IPY_MODEL_86433204328649a1b9fb73fa99d345b1",
            "value": "100%"
          }
        },
        "cbed47975ed341ffac9bd81255771b6b": {
          "model_module": "@jupyter-widgets/controls",
          "model_name": "FloatProgressModel",
          "model_module_version": "1.5.0",
          "state": {
            "_dom_classes": [],
            "_model_module": "@jupyter-widgets/controls",
            "_model_module_version": "1.5.0",
            "_model_name": "FloatProgressModel",
            "_view_count": null,
            "_view_module": "@jupyter-widgets/controls",
            "_view_module_version": "1.5.0",
            "_view_name": "ProgressView",
            "bar_style": "success",
            "description": "",
            "description_tooltip": null,
            "layout": "IPY_MODEL_3c4448bfa656478980a3b61fd23eaa78",
            "max": 25,
            "min": 0,
            "orientation": "horizontal",
            "style": "IPY_MODEL_6465ad9fad054e74898f54d23a32dd24",
            "value": 25
          }
        },
        "8b4c606a021c4fdc861d9f1dc39dbe1c": {
          "model_module": "@jupyter-widgets/controls",
          "model_name": "HTMLModel",
          "model_module_version": "1.5.0",
          "state": {
            "_dom_classes": [],
            "_model_module": "@jupyter-widgets/controls",
            "_model_module_version": "1.5.0",
            "_model_name": "HTMLModel",
            "_view_count": null,
            "_view_module": "@jupyter-widgets/controls",
            "_view_module_version": "1.5.0",
            "_view_name": "HTMLView",
            "description": "",
            "description_tooltip": null,
            "layout": "IPY_MODEL_2d9de0c618a64b3980d115990ed69543",
            "placeholder": "​",
            "style": "IPY_MODEL_db9715154b9f4c8fbdc966b829b32a05",
            "value": " 25/25 [00:02&lt;00:00, 10.61it/s]"
          }
        },
        "9387c34d2bcd4a4e9fe2131444ce4552": {
          "model_module": "@jupyter-widgets/base",
          "model_name": "LayoutModel",
          "model_module_version": "1.2.0",
          "state": {
            "_model_module": "@jupyter-widgets/base",
            "_model_module_version": "1.2.0",
            "_model_name": "LayoutModel",
            "_view_count": null,
            "_view_module": "@jupyter-widgets/base",
            "_view_module_version": "1.2.0",
            "_view_name": "LayoutView",
            "align_content": null,
            "align_items": null,
            "align_self": null,
            "border": null,
            "bottom": null,
            "display": null,
            "flex": null,
            "flex_flow": null,
            "grid_area": null,
            "grid_auto_columns": null,
            "grid_auto_flow": null,
            "grid_auto_rows": null,
            "grid_column": null,
            "grid_gap": null,
            "grid_row": null,
            "grid_template_areas": null,
            "grid_template_columns": null,
            "grid_template_rows": null,
            "height": null,
            "justify_content": null,
            "justify_items": null,
            "left": null,
            "margin": null,
            "max_height": null,
            "max_width": null,
            "min_height": null,
            "min_width": null,
            "object_fit": null,
            "object_position": null,
            "order": null,
            "overflow": null,
            "overflow_x": null,
            "overflow_y": null,
            "padding": null,
            "right": null,
            "top": null,
            "visibility": null,
            "width": null
          }
        },
        "2fac2f8a392e4d7e9b785777faf2f455": {
          "model_module": "@jupyter-widgets/base",
          "model_name": "LayoutModel",
          "model_module_version": "1.2.0",
          "state": {
            "_model_module": "@jupyter-widgets/base",
            "_model_module_version": "1.2.0",
            "_model_name": "LayoutModel",
            "_view_count": null,
            "_view_module": "@jupyter-widgets/base",
            "_view_module_version": "1.2.0",
            "_view_name": "LayoutView",
            "align_content": null,
            "align_items": null,
            "align_self": null,
            "border": null,
            "bottom": null,
            "display": null,
            "flex": null,
            "flex_flow": null,
            "grid_area": null,
            "grid_auto_columns": null,
            "grid_auto_flow": null,
            "grid_auto_rows": null,
            "grid_column": null,
            "grid_gap": null,
            "grid_row": null,
            "grid_template_areas": null,
            "grid_template_columns": null,
            "grid_template_rows": null,
            "height": null,
            "justify_content": null,
            "justify_items": null,
            "left": null,
            "margin": null,
            "max_height": null,
            "max_width": null,
            "min_height": null,
            "min_width": null,
            "object_fit": null,
            "object_position": null,
            "order": null,
            "overflow": null,
            "overflow_x": null,
            "overflow_y": null,
            "padding": null,
            "right": null,
            "top": null,
            "visibility": null,
            "width": null
          }
        },
        "86433204328649a1b9fb73fa99d345b1": {
          "model_module": "@jupyter-widgets/controls",
          "model_name": "DescriptionStyleModel",
          "model_module_version": "1.5.0",
          "state": {
            "_model_module": "@jupyter-widgets/controls",
            "_model_module_version": "1.5.0",
            "_model_name": "DescriptionStyleModel",
            "_view_count": null,
            "_view_module": "@jupyter-widgets/base",
            "_view_module_version": "1.2.0",
            "_view_name": "StyleView",
            "description_width": ""
          }
        },
        "3c4448bfa656478980a3b61fd23eaa78": {
          "model_module": "@jupyter-widgets/base",
          "model_name": "LayoutModel",
          "model_module_version": "1.2.0",
          "state": {
            "_model_module": "@jupyter-widgets/base",
            "_model_module_version": "1.2.0",
            "_model_name": "LayoutModel",
            "_view_count": null,
            "_view_module": "@jupyter-widgets/base",
            "_view_module_version": "1.2.0",
            "_view_name": "LayoutView",
            "align_content": null,
            "align_items": null,
            "align_self": null,
            "border": null,
            "bottom": null,
            "display": null,
            "flex": null,
            "flex_flow": null,
            "grid_area": null,
            "grid_auto_columns": null,
            "grid_auto_flow": null,
            "grid_auto_rows": null,
            "grid_column": null,
            "grid_gap": null,
            "grid_row": null,
            "grid_template_areas": null,
            "grid_template_columns": null,
            "grid_template_rows": null,
            "height": null,
            "justify_content": null,
            "justify_items": null,
            "left": null,
            "margin": null,
            "max_height": null,
            "max_width": null,
            "min_height": null,
            "min_width": null,
            "object_fit": null,
            "object_position": null,
            "order": null,
            "overflow": null,
            "overflow_x": null,
            "overflow_y": null,
            "padding": null,
            "right": null,
            "top": null,
            "visibility": null,
            "width": null
          }
        },
        "6465ad9fad054e74898f54d23a32dd24": {
          "model_module": "@jupyter-widgets/controls",
          "model_name": "ProgressStyleModel",
          "model_module_version": "1.5.0",
          "state": {
            "_model_module": "@jupyter-widgets/controls",
            "_model_module_version": "1.5.0",
            "_model_name": "ProgressStyleModel",
            "_view_count": null,
            "_view_module": "@jupyter-widgets/base",
            "_view_module_version": "1.2.0",
            "_view_name": "StyleView",
            "bar_color": null,
            "description_width": ""
          }
        },
        "2d9de0c618a64b3980d115990ed69543": {
          "model_module": "@jupyter-widgets/base",
          "model_name": "LayoutModel",
          "model_module_version": "1.2.0",
          "state": {
            "_model_module": "@jupyter-widgets/base",
            "_model_module_version": "1.2.0",
            "_model_name": "LayoutModel",
            "_view_count": null,
            "_view_module": "@jupyter-widgets/base",
            "_view_module_version": "1.2.0",
            "_view_name": "LayoutView",
            "align_content": null,
            "align_items": null,
            "align_self": null,
            "border": null,
            "bottom": null,
            "display": null,
            "flex": null,
            "flex_flow": null,
            "grid_area": null,
            "grid_auto_columns": null,
            "grid_auto_flow": null,
            "grid_auto_rows": null,
            "grid_column": null,
            "grid_gap": null,
            "grid_row": null,
            "grid_template_areas": null,
            "grid_template_columns": null,
            "grid_template_rows": null,
            "height": null,
            "justify_content": null,
            "justify_items": null,
            "left": null,
            "margin": null,
            "max_height": null,
            "max_width": null,
            "min_height": null,
            "min_width": null,
            "object_fit": null,
            "object_position": null,
            "order": null,
            "overflow": null,
            "overflow_x": null,
            "overflow_y": null,
            "padding": null,
            "right": null,
            "top": null,
            "visibility": null,
            "width": null
          }
        },
        "db9715154b9f4c8fbdc966b829b32a05": {
          "model_module": "@jupyter-widgets/controls",
          "model_name": "DescriptionStyleModel",
          "model_module_version": "1.5.0",
          "state": {
            "_model_module": "@jupyter-widgets/controls",
            "_model_module_version": "1.5.0",
            "_model_name": "DescriptionStyleModel",
            "_view_count": null,
            "_view_module": "@jupyter-widgets/base",
            "_view_module_version": "1.2.0",
            "_view_name": "StyleView",
            "description_width": ""
          }
        },
        "919619760648411b807ba4426af460e9": {
          "model_module": "@jupyter-widgets/controls",
          "model_name": "HBoxModel",
          "model_module_version": "1.5.0",
          "state": {
            "_dom_classes": [],
            "_model_module": "@jupyter-widgets/controls",
            "_model_module_version": "1.5.0",
            "_model_name": "HBoxModel",
            "_view_count": null,
            "_view_module": "@jupyter-widgets/controls",
            "_view_module_version": "1.5.0",
            "_view_name": "HBoxView",
            "box_style": "",
            "children": [
              "IPY_MODEL_920a925d23164f0c98e47b872dd5e0cc",
              "IPY_MODEL_c3872cba48e14c7c9783363098e10883",
              "IPY_MODEL_16c25f5834624e7db49602b05b608ccb"
            ],
            "layout": "IPY_MODEL_e60aafb1af12482591fbe540ffe60415"
          }
        },
        "920a925d23164f0c98e47b872dd5e0cc": {
          "model_module": "@jupyter-widgets/controls",
          "model_name": "HTMLModel",
          "model_module_version": "1.5.0",
          "state": {
            "_dom_classes": [],
            "_model_module": "@jupyter-widgets/controls",
            "_model_module_version": "1.5.0",
            "_model_name": "HTMLModel",
            "_view_count": null,
            "_view_module": "@jupyter-widgets/controls",
            "_view_module_version": "1.5.0",
            "_view_name": "HTMLView",
            "description": "",
            "description_tooltip": null,
            "layout": "IPY_MODEL_915c3765848e423bb986bdee88cd4513",
            "placeholder": "​",
            "style": "IPY_MODEL_0793b3b411e44cd9a810c91a6b7d5ec3",
            "value": "100%"
          }
        },
        "c3872cba48e14c7c9783363098e10883": {
          "model_module": "@jupyter-widgets/controls",
          "model_name": "FloatProgressModel",
          "model_module_version": "1.5.0",
          "state": {
            "_dom_classes": [],
            "_model_module": "@jupyter-widgets/controls",
            "_model_module_version": "1.5.0",
            "_model_name": "FloatProgressModel",
            "_view_count": null,
            "_view_module": "@jupyter-widgets/controls",
            "_view_module_version": "1.5.0",
            "_view_name": "ProgressView",
            "bar_style": "success",
            "description": "",
            "description_tooltip": null,
            "layout": "IPY_MODEL_a5e49be394ca433abf4de2feb4f61d48",
            "max": 25,
            "min": 0,
            "orientation": "horizontal",
            "style": "IPY_MODEL_b9a8683dbc6041c5a46e7a72a247ae97",
            "value": 25
          }
        },
        "16c25f5834624e7db49602b05b608ccb": {
          "model_module": "@jupyter-widgets/controls",
          "model_name": "HTMLModel",
          "model_module_version": "1.5.0",
          "state": {
            "_dom_classes": [],
            "_model_module": "@jupyter-widgets/controls",
            "_model_module_version": "1.5.0",
            "_model_name": "HTMLModel",
            "_view_count": null,
            "_view_module": "@jupyter-widgets/controls",
            "_view_module_version": "1.5.0",
            "_view_name": "HTMLView",
            "description": "",
            "description_tooltip": null,
            "layout": "IPY_MODEL_947d8c83164d4c39a09fde56ec074521",
            "placeholder": "​",
            "style": "IPY_MODEL_7d730a882a8d4b2e9a074a1e95c80144",
            "value": " 25/25 [00:00&lt;00:00, 37.78it/s]"
          }
        },
        "e60aafb1af12482591fbe540ffe60415": {
          "model_module": "@jupyter-widgets/base",
          "model_name": "LayoutModel",
          "model_module_version": "1.2.0",
          "state": {
            "_model_module": "@jupyter-widgets/base",
            "_model_module_version": "1.2.0",
            "_model_name": "LayoutModel",
            "_view_count": null,
            "_view_module": "@jupyter-widgets/base",
            "_view_module_version": "1.2.0",
            "_view_name": "LayoutView",
            "align_content": null,
            "align_items": null,
            "align_self": null,
            "border": null,
            "bottom": null,
            "display": null,
            "flex": null,
            "flex_flow": null,
            "grid_area": null,
            "grid_auto_columns": null,
            "grid_auto_flow": null,
            "grid_auto_rows": null,
            "grid_column": null,
            "grid_gap": null,
            "grid_row": null,
            "grid_template_areas": null,
            "grid_template_columns": null,
            "grid_template_rows": null,
            "height": null,
            "justify_content": null,
            "justify_items": null,
            "left": null,
            "margin": null,
            "max_height": null,
            "max_width": null,
            "min_height": null,
            "min_width": null,
            "object_fit": null,
            "object_position": null,
            "order": null,
            "overflow": null,
            "overflow_x": null,
            "overflow_y": null,
            "padding": null,
            "right": null,
            "top": null,
            "visibility": null,
            "width": null
          }
        },
        "915c3765848e423bb986bdee88cd4513": {
          "model_module": "@jupyter-widgets/base",
          "model_name": "LayoutModel",
          "model_module_version": "1.2.0",
          "state": {
            "_model_module": "@jupyter-widgets/base",
            "_model_module_version": "1.2.0",
            "_model_name": "LayoutModel",
            "_view_count": null,
            "_view_module": "@jupyter-widgets/base",
            "_view_module_version": "1.2.0",
            "_view_name": "LayoutView",
            "align_content": null,
            "align_items": null,
            "align_self": null,
            "border": null,
            "bottom": null,
            "display": null,
            "flex": null,
            "flex_flow": null,
            "grid_area": null,
            "grid_auto_columns": null,
            "grid_auto_flow": null,
            "grid_auto_rows": null,
            "grid_column": null,
            "grid_gap": null,
            "grid_row": null,
            "grid_template_areas": null,
            "grid_template_columns": null,
            "grid_template_rows": null,
            "height": null,
            "justify_content": null,
            "justify_items": null,
            "left": null,
            "margin": null,
            "max_height": null,
            "max_width": null,
            "min_height": null,
            "min_width": null,
            "object_fit": null,
            "object_position": null,
            "order": null,
            "overflow": null,
            "overflow_x": null,
            "overflow_y": null,
            "padding": null,
            "right": null,
            "top": null,
            "visibility": null,
            "width": null
          }
        },
        "0793b3b411e44cd9a810c91a6b7d5ec3": {
          "model_module": "@jupyter-widgets/controls",
          "model_name": "DescriptionStyleModel",
          "model_module_version": "1.5.0",
          "state": {
            "_model_module": "@jupyter-widgets/controls",
            "_model_module_version": "1.5.0",
            "_model_name": "DescriptionStyleModel",
            "_view_count": null,
            "_view_module": "@jupyter-widgets/base",
            "_view_module_version": "1.2.0",
            "_view_name": "StyleView",
            "description_width": ""
          }
        },
        "a5e49be394ca433abf4de2feb4f61d48": {
          "model_module": "@jupyter-widgets/base",
          "model_name": "LayoutModel",
          "model_module_version": "1.2.0",
          "state": {
            "_model_module": "@jupyter-widgets/base",
            "_model_module_version": "1.2.0",
            "_model_name": "LayoutModel",
            "_view_count": null,
            "_view_module": "@jupyter-widgets/base",
            "_view_module_version": "1.2.0",
            "_view_name": "LayoutView",
            "align_content": null,
            "align_items": null,
            "align_self": null,
            "border": null,
            "bottom": null,
            "display": null,
            "flex": null,
            "flex_flow": null,
            "grid_area": null,
            "grid_auto_columns": null,
            "grid_auto_flow": null,
            "grid_auto_rows": null,
            "grid_column": null,
            "grid_gap": null,
            "grid_row": null,
            "grid_template_areas": null,
            "grid_template_columns": null,
            "grid_template_rows": null,
            "height": null,
            "justify_content": null,
            "justify_items": null,
            "left": null,
            "margin": null,
            "max_height": null,
            "max_width": null,
            "min_height": null,
            "min_width": null,
            "object_fit": null,
            "object_position": null,
            "order": null,
            "overflow": null,
            "overflow_x": null,
            "overflow_y": null,
            "padding": null,
            "right": null,
            "top": null,
            "visibility": null,
            "width": null
          }
        },
        "b9a8683dbc6041c5a46e7a72a247ae97": {
          "model_module": "@jupyter-widgets/controls",
          "model_name": "ProgressStyleModel",
          "model_module_version": "1.5.0",
          "state": {
            "_model_module": "@jupyter-widgets/controls",
            "_model_module_version": "1.5.0",
            "_model_name": "ProgressStyleModel",
            "_view_count": null,
            "_view_module": "@jupyter-widgets/base",
            "_view_module_version": "1.2.0",
            "_view_name": "StyleView",
            "bar_color": null,
            "description_width": ""
          }
        },
        "947d8c83164d4c39a09fde56ec074521": {
          "model_module": "@jupyter-widgets/base",
          "model_name": "LayoutModel",
          "model_module_version": "1.2.0",
          "state": {
            "_model_module": "@jupyter-widgets/base",
            "_model_module_version": "1.2.0",
            "_model_name": "LayoutModel",
            "_view_count": null,
            "_view_module": "@jupyter-widgets/base",
            "_view_module_version": "1.2.0",
            "_view_name": "LayoutView",
            "align_content": null,
            "align_items": null,
            "align_self": null,
            "border": null,
            "bottom": null,
            "display": null,
            "flex": null,
            "flex_flow": null,
            "grid_area": null,
            "grid_auto_columns": null,
            "grid_auto_flow": null,
            "grid_auto_rows": null,
            "grid_column": null,
            "grid_gap": null,
            "grid_row": null,
            "grid_template_areas": null,
            "grid_template_columns": null,
            "grid_template_rows": null,
            "height": null,
            "justify_content": null,
            "justify_items": null,
            "left": null,
            "margin": null,
            "max_height": null,
            "max_width": null,
            "min_height": null,
            "min_width": null,
            "object_fit": null,
            "object_position": null,
            "order": null,
            "overflow": null,
            "overflow_x": null,
            "overflow_y": null,
            "padding": null,
            "right": null,
            "top": null,
            "visibility": null,
            "width": null
          }
        },
        "7d730a882a8d4b2e9a074a1e95c80144": {
          "model_module": "@jupyter-widgets/controls",
          "model_name": "DescriptionStyleModel",
          "model_module_version": "1.5.0",
          "state": {
            "_model_module": "@jupyter-widgets/controls",
            "_model_module_version": "1.5.0",
            "_model_name": "DescriptionStyleModel",
            "_view_count": null,
            "_view_module": "@jupyter-widgets/base",
            "_view_module_version": "1.2.0",
            "_view_name": "StyleView",
            "description_width": ""
          }
        },
        "bda9c0608f15421ba75958b74d6b1cd3": {
          "model_module": "@jupyter-widgets/controls",
          "model_name": "HBoxModel",
          "model_module_version": "1.5.0",
          "state": {
            "_dom_classes": [],
            "_model_module": "@jupyter-widgets/controls",
            "_model_module_version": "1.5.0",
            "_model_name": "HBoxModel",
            "_view_count": null,
            "_view_module": "@jupyter-widgets/controls",
            "_view_module_version": "1.5.0",
            "_view_name": "HBoxView",
            "box_style": "",
            "children": [
              "IPY_MODEL_60e0593d6673438e8733fecf982e8cb7",
              "IPY_MODEL_f4499faf5e9c48fb9d3d31f1140dc93c",
              "IPY_MODEL_6f20c813106745409f4c9ad5853d241f"
            ],
            "layout": "IPY_MODEL_189586f05a1d45a58870d18e018325fc"
          }
        },
        "60e0593d6673438e8733fecf982e8cb7": {
          "model_module": "@jupyter-widgets/controls",
          "model_name": "HTMLModel",
          "model_module_version": "1.5.0",
          "state": {
            "_dom_classes": [],
            "_model_module": "@jupyter-widgets/controls",
            "_model_module_version": "1.5.0",
            "_model_name": "HTMLModel",
            "_view_count": null,
            "_view_module": "@jupyter-widgets/controls",
            "_view_module_version": "1.5.0",
            "_view_name": "HTMLView",
            "description": "",
            "description_tooltip": null,
            "layout": "IPY_MODEL_6c2cd33b883247b8a4d466e46ef043fa",
            "placeholder": "​",
            "style": "IPY_MODEL_b17bea3b945e4e8d8e954b933f332b33",
            "value": "100%"
          }
        },
        "f4499faf5e9c48fb9d3d31f1140dc93c": {
          "model_module": "@jupyter-widgets/controls",
          "model_name": "FloatProgressModel",
          "model_module_version": "1.5.0",
          "state": {
            "_dom_classes": [],
            "_model_module": "@jupyter-widgets/controls",
            "_model_module_version": "1.5.0",
            "_model_name": "FloatProgressModel",
            "_view_count": null,
            "_view_module": "@jupyter-widgets/controls",
            "_view_module_version": "1.5.0",
            "_view_name": "ProgressView",
            "bar_style": "success",
            "description": "",
            "description_tooltip": null,
            "layout": "IPY_MODEL_f5375bf057da48fa84005e4aebc03857",
            "max": 25,
            "min": 0,
            "orientation": "horizontal",
            "style": "IPY_MODEL_f6efe37def0c40dda238340c7c2eb13d",
            "value": 25
          }
        },
        "6f20c813106745409f4c9ad5853d241f": {
          "model_module": "@jupyter-widgets/controls",
          "model_name": "HTMLModel",
          "model_module_version": "1.5.0",
          "state": {
            "_dom_classes": [],
            "_model_module": "@jupyter-widgets/controls",
            "_model_module_version": "1.5.0",
            "_model_name": "HTMLModel",
            "_view_count": null,
            "_view_module": "@jupyter-widgets/controls",
            "_view_module_version": "1.5.0",
            "_view_name": "HTMLView",
            "description": "",
            "description_tooltip": null,
            "layout": "IPY_MODEL_224ced3ca11f4b3ab6d8ad8e10633037",
            "placeholder": "​",
            "style": "IPY_MODEL_4d0296e1ea3445d5aa308703f8b64e02",
            "value": " 25/25 [00:02&lt;00:00,  9.54it/s]"
          }
        },
        "189586f05a1d45a58870d18e018325fc": {
          "model_module": "@jupyter-widgets/base",
          "model_name": "LayoutModel",
          "model_module_version": "1.2.0",
          "state": {
            "_model_module": "@jupyter-widgets/base",
            "_model_module_version": "1.2.0",
            "_model_name": "LayoutModel",
            "_view_count": null,
            "_view_module": "@jupyter-widgets/base",
            "_view_module_version": "1.2.0",
            "_view_name": "LayoutView",
            "align_content": null,
            "align_items": null,
            "align_self": null,
            "border": null,
            "bottom": null,
            "display": null,
            "flex": null,
            "flex_flow": null,
            "grid_area": null,
            "grid_auto_columns": null,
            "grid_auto_flow": null,
            "grid_auto_rows": null,
            "grid_column": null,
            "grid_gap": null,
            "grid_row": null,
            "grid_template_areas": null,
            "grid_template_columns": null,
            "grid_template_rows": null,
            "height": null,
            "justify_content": null,
            "justify_items": null,
            "left": null,
            "margin": null,
            "max_height": null,
            "max_width": null,
            "min_height": null,
            "min_width": null,
            "object_fit": null,
            "object_position": null,
            "order": null,
            "overflow": null,
            "overflow_x": null,
            "overflow_y": null,
            "padding": null,
            "right": null,
            "top": null,
            "visibility": null,
            "width": null
          }
        },
        "6c2cd33b883247b8a4d466e46ef043fa": {
          "model_module": "@jupyter-widgets/base",
          "model_name": "LayoutModel",
          "model_module_version": "1.2.0",
          "state": {
            "_model_module": "@jupyter-widgets/base",
            "_model_module_version": "1.2.0",
            "_model_name": "LayoutModel",
            "_view_count": null,
            "_view_module": "@jupyter-widgets/base",
            "_view_module_version": "1.2.0",
            "_view_name": "LayoutView",
            "align_content": null,
            "align_items": null,
            "align_self": null,
            "border": null,
            "bottom": null,
            "display": null,
            "flex": null,
            "flex_flow": null,
            "grid_area": null,
            "grid_auto_columns": null,
            "grid_auto_flow": null,
            "grid_auto_rows": null,
            "grid_column": null,
            "grid_gap": null,
            "grid_row": null,
            "grid_template_areas": null,
            "grid_template_columns": null,
            "grid_template_rows": null,
            "height": null,
            "justify_content": null,
            "justify_items": null,
            "left": null,
            "margin": null,
            "max_height": null,
            "max_width": null,
            "min_height": null,
            "min_width": null,
            "object_fit": null,
            "object_position": null,
            "order": null,
            "overflow": null,
            "overflow_x": null,
            "overflow_y": null,
            "padding": null,
            "right": null,
            "top": null,
            "visibility": null,
            "width": null
          }
        },
        "b17bea3b945e4e8d8e954b933f332b33": {
          "model_module": "@jupyter-widgets/controls",
          "model_name": "DescriptionStyleModel",
          "model_module_version": "1.5.0",
          "state": {
            "_model_module": "@jupyter-widgets/controls",
            "_model_module_version": "1.5.0",
            "_model_name": "DescriptionStyleModel",
            "_view_count": null,
            "_view_module": "@jupyter-widgets/base",
            "_view_module_version": "1.2.0",
            "_view_name": "StyleView",
            "description_width": ""
          }
        },
        "f5375bf057da48fa84005e4aebc03857": {
          "model_module": "@jupyter-widgets/base",
          "model_name": "LayoutModel",
          "model_module_version": "1.2.0",
          "state": {
            "_model_module": "@jupyter-widgets/base",
            "_model_module_version": "1.2.0",
            "_model_name": "LayoutModel",
            "_view_count": null,
            "_view_module": "@jupyter-widgets/base",
            "_view_module_version": "1.2.0",
            "_view_name": "LayoutView",
            "align_content": null,
            "align_items": null,
            "align_self": null,
            "border": null,
            "bottom": null,
            "display": null,
            "flex": null,
            "flex_flow": null,
            "grid_area": null,
            "grid_auto_columns": null,
            "grid_auto_flow": null,
            "grid_auto_rows": null,
            "grid_column": null,
            "grid_gap": null,
            "grid_row": null,
            "grid_template_areas": null,
            "grid_template_columns": null,
            "grid_template_rows": null,
            "height": null,
            "justify_content": null,
            "justify_items": null,
            "left": null,
            "margin": null,
            "max_height": null,
            "max_width": null,
            "min_height": null,
            "min_width": null,
            "object_fit": null,
            "object_position": null,
            "order": null,
            "overflow": null,
            "overflow_x": null,
            "overflow_y": null,
            "padding": null,
            "right": null,
            "top": null,
            "visibility": null,
            "width": null
          }
        },
        "f6efe37def0c40dda238340c7c2eb13d": {
          "model_module": "@jupyter-widgets/controls",
          "model_name": "ProgressStyleModel",
          "model_module_version": "1.5.0",
          "state": {
            "_model_module": "@jupyter-widgets/controls",
            "_model_module_version": "1.5.0",
            "_model_name": "ProgressStyleModel",
            "_view_count": null,
            "_view_module": "@jupyter-widgets/base",
            "_view_module_version": "1.2.0",
            "_view_name": "StyleView",
            "bar_color": null,
            "description_width": ""
          }
        },
        "224ced3ca11f4b3ab6d8ad8e10633037": {
          "model_module": "@jupyter-widgets/base",
          "model_name": "LayoutModel",
          "model_module_version": "1.2.0",
          "state": {
            "_model_module": "@jupyter-widgets/base",
            "_model_module_version": "1.2.0",
            "_model_name": "LayoutModel",
            "_view_count": null,
            "_view_module": "@jupyter-widgets/base",
            "_view_module_version": "1.2.0",
            "_view_name": "LayoutView",
            "align_content": null,
            "align_items": null,
            "align_self": null,
            "border": null,
            "bottom": null,
            "display": null,
            "flex": null,
            "flex_flow": null,
            "grid_area": null,
            "grid_auto_columns": null,
            "grid_auto_flow": null,
            "grid_auto_rows": null,
            "grid_column": null,
            "grid_gap": null,
            "grid_row": null,
            "grid_template_areas": null,
            "grid_template_columns": null,
            "grid_template_rows": null,
            "height": null,
            "justify_content": null,
            "justify_items": null,
            "left": null,
            "margin": null,
            "max_height": null,
            "max_width": null,
            "min_height": null,
            "min_width": null,
            "object_fit": null,
            "object_position": null,
            "order": null,
            "overflow": null,
            "overflow_x": null,
            "overflow_y": null,
            "padding": null,
            "right": null,
            "top": null,
            "visibility": null,
            "width": null
          }
        },
        "4d0296e1ea3445d5aa308703f8b64e02": {
          "model_module": "@jupyter-widgets/controls",
          "model_name": "DescriptionStyleModel",
          "model_module_version": "1.5.0",
          "state": {
            "_model_module": "@jupyter-widgets/controls",
            "_model_module_version": "1.5.0",
            "_model_name": "DescriptionStyleModel",
            "_view_count": null,
            "_view_module": "@jupyter-widgets/base",
            "_view_module_version": "1.2.0",
            "_view_name": "StyleView",
            "description_width": ""
          }
        }
      }
    }
  },
  "nbformat": 4,
  "nbformat_minor": 0
}